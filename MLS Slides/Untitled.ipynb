{
 "cells": [
  {
   "cell_type": "code",
   "execution_count": 5,
   "id": "46f33ca2",
   "metadata": {},
   "outputs": [
    {
     "name": "stdout",
     "output_type": "stream",
     "text": [
      "PDF files merged successfully!\n"
     ]
    }
   ],
   "source": [
    "import os\n",
    "from PyPDF2 import PdfMerger\n",
    "\n",
    "# Directory containing the PDF files\n",
    "folder_path = \"MLS_C3_PDFs\"\n",
    "\n",
    "# Get a list of all files in the directory\n",
    "files = os.listdir(folder_path)\n",
    "\n",
    "# Filter the files to include only those starting with \"C3\"\n",
    "pdf_files = [file for file in files if file.startswith(\"C3\")]\n",
    "\n",
    "# Sort the PDF files to maintain the order\n",
    "pdf_files.sort()\n",
    "\n",
    "# Initialize PDF merger\n",
    "merger = PdfMerger()\n",
    "\n",
    "# Merge the PDF files\n",
    "for file in pdf_files:\n",
    "    file_path = os.path.join(folder_path, file)\n",
    "    merger.append(file_path)\n",
    "\n",
    "# Output file path for the merged PDF\n",
    "output_path = \"MLS_C3.pdf\"\n",
    "\n",
    "# Save the merged PDF file\n",
    "merger.write(output_path)\n",
    "merger.close()\n",
    "\n",
    "print(\"PDF files merged successfully!\")\n"
   ]
  },
  {
   "cell_type": "code",
   "execution_count": 6,
   "id": "cdebef26",
   "metadata": {},
   "outputs": [
    {
     "data": {
      "text/plain": [
       "['C3_W1.pdf', 'C3_W2.pdf', 'C3_W3.pdf']"
      ]
     },
     "execution_count": 6,
     "metadata": {},
     "output_type": "execute_result"
    }
   ],
   "source": [
    "pdf_files"
   ]
  },
  {
   "cell_type": "code",
   "execution_count": null,
   "id": "9a53cc47",
   "metadata": {},
   "outputs": [],
   "source": []
  }
 ],
 "metadata": {
  "kernelspec": {
   "display_name": "Python 3 (ipykernel)",
   "language": "python",
   "name": "python3"
  },
  "language_info": {
   "codemirror_mode": {
    "name": "ipython",
    "version": 3
   },
   "file_extension": ".py",
   "mimetype": "text/x-python",
   "name": "python",
   "nbconvert_exporter": "python",
   "pygments_lexer": "ipython3",
   "version": "3.10.9"
  }
 },
 "nbformat": 4,
 "nbformat_minor": 5
}
